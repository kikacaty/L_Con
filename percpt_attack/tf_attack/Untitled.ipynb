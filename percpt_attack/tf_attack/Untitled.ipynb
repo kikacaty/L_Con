{
 "cells": [
  {
   "cell_type": "code",
   "execution_count": 3,
   "metadata": {},
   "outputs": [
    {
     "name": "stdout",
     "output_type": "stream",
     "text": [
      "[<tf.Tensor 'gradients/AddN_1:0' shape=(5, 1) dtype=float64>, <tf.Tensor 'gradients/add_grad/Reshape_1:0' shape=(5, 1) dtype=float64>]\n"
     ]
    }
   ],
   "source": [
    "import tensorflow as tf\n",
    "import numpy as np\n",
    "def f(x, z):\n",
    "  \"\"\"Adds values together, reshapes into vector\"\"\"\n",
    "  return tf.reshape(x+z, (5,))\n",
    "\n",
    "tf.reset_default_graph()\n",
    "gpu_options = tf.GPUOptions(per_process_gpu_memory_fraction=0.333)\n",
    "with tf.Session(config=tf.ConfigProto(gpu_options=gpu_options)) as sess:\n",
    "    x = tf.Variable(np.random.rand(5, 1))\n",
    "    z = tf.Variable(np.random.rand(5, 1))\n",
    "    v = f(x, z)\n",
    "    w = tf.slice(v, [0], [5])\n",
    "    w = tf.reshape(v, (5, 1))\n",
    "    y = tf.matmul(tf.reshape(w, (5, 1)), tf.transpose(x)) + tf.slice(v, [0], [5])\n",
    "    cost = tf.square(tf.reduce_sum(y-x))\n",
    "    print tf.gradients(cost, [x, z])\n",
    "    summary_writer = tf.summary.FileWriter('../tf_logs_test/',sess.graph)"
   ]
  }
 ],
 "metadata": {
  "kernelspec": {
   "display_name": "Python 2",
   "language": "python",
   "name": "python2"
  },
  "language_info": {
   "codemirror_mode": {
    "name": "ipython",
    "version": 2
   },
   "file_extension": ".py",
   "mimetype": "text/x-python",
   "name": "python",
   "nbconvert_exporter": "python",
   "pygments_lexer": "ipython2",
   "version": "2.7.6"
  }
 },
 "nbformat": 4,
 "nbformat_minor": 2
}
