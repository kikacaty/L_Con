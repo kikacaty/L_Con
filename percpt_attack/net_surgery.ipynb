{
 "cells": [
  {
   "cell_type": "code",
   "execution_count": 1,
   "metadata": {},
   "outputs": [],
   "source": [
    "import re\n",
    "import numpy as np\n",
    "import os\n",
    "from tools import *\n",
    "\n",
    "%matplotlib inline"
   ]
  },
  {
   "cell_type": "code",
   "execution_count": 2,
   "metadata": {},
   "outputs": [],
   "source": [
    "features = np.loadtxt('/data/yulongc/apollo/data/percpt/features.out')\n",
    "features = np.reshape(features,(8,512,512))"
   ]
  },
  {
   "cell_type": "code",
   "execution_count": null,
   "metadata": {},
   "outputs": [],
   "source": [
    "# caffe model\n",
    "import caffe\n",
    "\n",
    "caffe.set_mode_gpu()\n",
    "\n",
    "# model to attack\n",
    "model_definition = 'tf_attack/deploy.prototxt'\n",
    "model_weights = 'tf_attack/deploy.caffemodel'\n",
    "\n",
    "# init net\n",
    "net = caffe.Net(model_definition, model_weights, caffe.TEST)\n",
    "\n",
    "# transform input\n",
    "# input_feature = transform(feature_frames, 0)\n",
    "input_feature = features\n",
    "print input_feature.shape\n",
    "\n",
    "# get output\n",
    "net.blobs['data'].data[0] = input_feature\n",
    "net.forward()\n",
    "outputs = ['category_score','class_score','confidence_score',\n",
    "#            'heading_pt',\n",
    "           'height_pt','instance_pt']\n",
    "for output in outputs:\n",
    "    print output, net.blobs[output].data.shape, net.blobs[output].data.max(), net.blobs[output].data.min()\n",
    "output_data = np.copy([net.blobs[output].data[0] for output in outputs])"
   ]
  },
  {
   "cell_type": "code",
   "execution_count": 6,
   "metadata": {},
   "outputs": [
    {
     "data": {
      "image/png": "[encoded data removed]",
      "text/plain": [
       "<matplotlib.figure.Figure at 0x7f14d852f150>"
      ]
     },
     "metadata": {},
     "output_type": "display_data"
    }
   ],
   "source": [
    "draw_feature(output_data[0][0])"
   ]
  },
  {
   "cell_type": "code",
   "execution_count": null,
   "metadata": {},
   "outputs": [],
   "source": []
  }
 ],
 "metadata": {
  "kernelspec": {
   "display_name": "Python 2",
   "language": "python",
   "name": "python2"
  },
  "language_info": {
   "codemirror_mode": {
    "name": "ipython",
    "version": 2
   },
   "file_extension": ".py",
   "mimetype": "text/x-python",
   "name": "python",
   "nbconvert_exporter": "python",
   "pygments_lexer": "ipython2",
   "version": "2.7.6"
  }
 },
 "nbformat": 4,
 "nbformat_minor": 2
}
