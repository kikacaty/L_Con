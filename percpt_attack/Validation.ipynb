{
 "cells": [
  {
   "cell_type": "code",
   "execution_count": 1,
   "metadata": {},
   "outputs": [],
   "source": [
    "def draw_anotated_pcl(pcl_frames,objs_frames,idx,display=False):\n",
    "    \n",
    "    pcl = pcl_frames[idx]\n",
    "    objs = objs_frames[idx]\n",
    "    \n",
    "    %matplotlib inline\n",
    "    import matplotlib.pylab as plt\n",
    "    import matplotlib\n",
    "    from mpl_toolkits.mplot3d import Axes3D\n",
    "    import math\n",
    "    # import seaborn as sns; sns.set()\n",
    "    \n",
    "    roi_pcl = np.array(pcl)\n",
    "    px = [p[0] for p in roi_pcl]\n",
    "    py = [p[1] for p in roi_pcl]\n",
    "    pz = [p[2] for p in roi_pcl]\n",
    "    pi = [p[4] for p in roi_pcl]\n",
    "    n = len(px)\n",
    "    point_size = 0.05\n",
    "    axes_limits = [\n",
    "        [-80,80], # X axis\n",
    "        [-15,15], # Y axis\n",
    "        [-3,3] # Z axis\n",
    "    ]\n",
    "    \n",
    "    # Plot x-y, y-z, x-z\n",
    "    f,ax = plt.subplots(3,1,figsize=(20,5*3))\n",
    "    # ax = fig.add_subplot(111, projection='3d')\n",
    "    ax[0].scatter(px,py,c = pi,cmap='gray',s=point_size)\n",
    "    ax[0].set_xlabel('X axis')\n",
    "    ax[0].set_ylabel('Y axis')\n",
    "    ax[0].set_xlim(axes_limits[0])\n",
    "    ax[0].set_ylim(axes_limits[1])\n",
    "    \n",
    "    for obj in objs:\n",
    "            path = [(p[0],p[1]) for p in obj]\n",
    "            poly = matplotlib.patches.Polygon(path,fill = False,color='r',linewidth=3)\n",
    "            ax[0].add_patch(poly)\n",
    "    ax[1].scatter(py,pz,c = pi,cmap='gray',s=point_size)\n",
    "    ax[1].set_xlabel('Y axis')\n",
    "    ax[1].set_ylabel('Z axis')\n",
    "    ax[1].set_xlim(axes_limits[1])\n",
    "    ax[1].set_ylim(axes_limits[2])\n",
    "    ax[2].scatter(px,pz,c = pi,cmap='gray',s=point_size)\n",
    "    ax[2].set_xlabel('X axis')\n",
    "    ax[2].set_ylabel('Z axis')\n",
    "    ax[2].set_xlim(axes_limits[0])\n",
    "    ax[2].set_ylim(axes_limits[2])\n",
    "    if display:\n",
    "        plt.show()\n",
    "    else:\n",
    "        filename = 'annotated_video/frame_{0:0>4}.png'.format(idx)\n",
    "        for sub_ax in ax:\n",
    "            sub_ax.set_title(\"Frame: {0:0>4}\".format(idx))\n",
    "    \n",
    "        plt.savefig(filename)\n",
    "        plt.close(f)\n",
    "        return filename\n",
    "        \n"
   ]
  },
  {
   "cell_type": "code",
   "execution_count": 7,
   "metadata": {},
   "outputs": [],
   "source": [
    "def read_objs(filename):\n",
    "    obs_polygon = []\n",
    "    with open(filename,'rb') as f:\n",
    "        while True:\n",
    "            line = f.readline().split(' ')\n",
    "            if line[0] == '':\n",
    "                break\n",
    "            poly_size = int(line[8])\n",
    "            poly = []\n",
    "            for i in range(poly_size):\n",
    "                poly.append((float(line[9+i*3]),float(line[10+i*3]),float(line[11+i*3])))\n",
    "            obs_polygon.append(poly)\n",
    "\n",
    "    return obs_polygon"
   ]
  },
  {
   "cell_type": "code",
   "execution_count": 3,
   "metadata": {},
   "outputs": [],
   "source": [
    "def annotated_pcl_demo(roi_pcl_frames, obj_frames, name = \"pcl\", fps = 1, n_frames=0):\n",
    "    if n_frames == 0:\n",
    "        n_frames = len(roi_pcl_frames)\n",
    "    frames = []\n",
    "    if n_frames > len(roi_pcl_frames):\n",
    "        n_frames = len(roi_pcl_frames)\n",
    "\n",
    "    bar = pyprind.ProgBar(n_frames, bar_char='█')\n",
    "\n",
    "    print('Preparing animation frames...')\n",
    "    for i in range(n_frames):\n",
    "        bar.update(i)\n",
    "        filename = draw_anotated_pcl(roi_pcl_frames, obj_frames, i)\n",
    "        frames += [filename]\n",
    "    print('...Animation frames ready.')\n",
    "\n",
    "    gif_filename = '{0}_data.gif'.format(name)\n",
    "\n",
    "    clip = ImageSequenceClip(frames, fps=fps)\n",
    "    try:\n",
    "        os.remove(gif_filename)\n",
    "    except OSError:\n",
    "        pass\n",
    "    clip.write_gif(gif_filename, fps=fps)"
   ]
  },
  {
   "cell_type": "code",
   "execution_count": 4,
   "metadata": {},
   "outputs": [],
   "source": [
    "import re\n",
    "import numpy as np\n",
    "import os\n",
    "from tools import *\n",
    "import pickle\n",
    "%matplotlib inline"
   ]
  },
  {
   "cell_type": "code",
   "execution_count": 5,
   "metadata": {},
   "outputs": [],
   "source": [
    "def dump_cnn_out(output_data,filename = 'cnn.out'):\n",
    "    with open('/data/yulongc/apollo/data/percpt/'+filename,'w') as f:\n",
    "        # category\n",
    "        for p in output_data[0][0].flatten():\n",
    "            f.write('%.15f '%(p))\n",
    "        # class\n",
    "        f.write('\\n')\n",
    "        for p_class in output_data[1]:\n",
    "            for p in p_class.flatten():\n",
    "                f.write('%.15f '%(p))\n",
    "            f.write('\\n')\n",
    "        # confidence\n",
    "        for p in output_data[2][0].flatten():\n",
    "            f.write('%.15f '%(p))\n",
    "        f.write('\\n')\n",
    "    #     # heading\n",
    "    #     for heading in output_data[3]:\n",
    "    #         for p in heading:\n",
    "    #             f.write('%.15f '%(p))\n",
    "        # height\n",
    "        for p in output_data[3][0].flatten():\n",
    "            f.write('%.15f '%(p))\n",
    "        f.write('\\n')\n",
    "        # instance\n",
    "        for instance in output_data[4]:\n",
    "            for p in instance.flatten():\n",
    "                f.write('%.15f '%(p))\n",
    "            f.write('\\n')"
   ]
  },
  {
   "cell_type": "code",
   "execution_count": 8,
   "metadata": {},
   "outputs": [],
   "source": [
    "objs_frames = []\n",
    "for i in range(100):\n",
    "    objs_frames.append(read_objs('/data/yulongc/apollo/data/percpt/builders/builder_{0}.out'.format(i)))"
   ]
  },
  {
   "cell_type": "code",
   "execution_count": 9,
   "metadata": {},
   "outputs": [],
   "source": [
    "pcl_frames = []\n",
    "for i in range(100):\n",
    "    pcl_frames.append(np.loadtxt('/data/yulongc/apollo/data/percpt/pcls/pcl_{0}.out'.format(i)))"
   ]
  },
  {
   "cell_type": "code",
   "execution_count": 26,
   "metadata": {},
   "outputs": [
    {
     "name": "stdout",
     "output_type": "stream",
     "text": [
      "Preparing animation frames...\n"
     ]
    },
    {
     "name": "stderr",
     "output_type": "stream",
     "text": [
      "0% [███████████████████████████████] 100% | ETA: 23:59:56\n",
      "Total time elapsed: 00:01:39\n"
     ]
    },
    {
     "name": "stdout",
     "output_type": "stream",
     "text": [
      "...Animation frames ready.\n",
      "\n",
      "[MoviePy] Building file annotated_pcl_data.gif with imageio\n"
     ]
    },
    {
     "name": "stderr",
     "output_type": "stream",
     "text": [
      "100%|██████████| 100/100 [00:53<00:00,  2.75it/s]\n"
     ]
    }
   ],
   "source": [
    "annotated_pcl_demo(pcl_frames,objs_frames,name = \"annotated_pcl\",fps=5)"
   ]
  },
  {
   "cell_type": "markdown",
   "metadata": {},
   "source": [
    "# Dumping CNN Outputs"
   ]
  },
  {
   "cell_type": "code",
   "execution_count": 27,
   "metadata": {},
   "outputs": [],
   "source": [
    "# caffe model\n",
    "import caffe\n",
    "caffe.set_mode_gpu()\n",
    "# model to attack\n",
    "model_definition = 'deploy.prototxt'\n",
    "model_weights = 'deploy.caffemodel'\n",
    "\n",
    "# init net\n",
    "net = caffe.Net(model_definition, model_weights, caffe.TEST)"
   ]
  },
  {
   "cell_type": "code",
   "execution_count": 30,
   "metadata": {},
   "outputs": [
    {
     "name": "stdout",
     "output_type": "stream",
     "text": [
      "0\n",
      "50\n",
      "100\n",
      "150\n",
      "200\n",
      "250\n",
      "300\n",
      "350\n",
      "400\n",
      "450\n"
     ]
    }
   ],
   "source": [
    "#  ADV CNN OUT\n",
    "\n",
    "for i in range(500):\n",
    "    if not i % 50:\n",
    "        print i\n",
    "#     features = np.loadtxt('/data/yulongc/apollo/data/percpt/features/features_{0}.out'.format(i))\n",
    "#     features = np.reshape(features,(8,512,512))\n",
    "\n",
    "    features = np.load('/data/yulongc/apollo/data/percpt/adv_features/adv_feature_{0}.npy'.format(i))\n",
    "    features = np.swapaxes(features,0,3)[:,:,:,0]\n",
    "    \n",
    "    # transform input\n",
    "    # input_feature = transform(feature_frames, 0)\n",
    "    input_feature = features\n",
    "#     print input_feature.shape\n",
    "\n",
    "    # get output\n",
    "    net.blobs['data'].data[0] = input_feature\n",
    "    net.forward()\n",
    "    outputs = ['category_score','class_score','confidence_score',\n",
    "    #            'heading_pt',\n",
    "               'height_pt','instance_pt']\n",
    "#     for output in outputs:\n",
    "#         print output, net.blobs[output].data.shape, net.blobs[output].data.max(), net.blobs[output].data.min()\n",
    "    output_data = np.copy([net.blobs[output].data[0] for output in outputs])\n",
    "\n",
    "    dump_cnn_out(output_data,'adv_cnns/cnn_{0}.out'.format(i))"
   ]
  },
  {
   "cell_type": "code",
   "execution_count": 10,
   "metadata": {},
   "outputs": [],
   "source": [
    "adv_objs_frames = []\n",
    "for i in range(100):\n",
    "    adv_objs_frames.append(read_objs('/data/yulongc/apollo/data/percpt/adv_builders/adv_builder_{0}.out'.format(i)))"
   ]
  },
  {
   "cell_type": "markdown",
   "metadata": {},
   "source": [
    "# Visualizing annotaed PCL"
   ]
  },
  {
   "cell_type": "code",
   "execution_count": 42,
   "metadata": {},
   "outputs": [
    {
     "name": "stdout",
     "output_type": "stream",
     "text": [
      "Preparing animation frames...\n"
     ]
    },
    {
     "name": "stderr",
     "output_type": "stream",
     "text": [
      "0% [███████████████████████████████] 100% | ETA: 23:59:54\n",
      "Total time elapsed: 00:02:21\n"
     ]
    },
    {
     "name": "stdout",
     "output_type": "stream",
     "text": [
      "...Animation frames ready.\n",
      "\n",
      "[MoviePy] Building file adv_annotated_pcl_data.gif with imageio\n"
     ]
    },
    {
     "name": "stderr",
     "output_type": "stream",
     "text": [
      "100%|██████████| 100/100 [01:00<00:00,  1.52it/s]\n"
     ]
    }
   ],
   "source": [
    "annotated_pcl_demo(pcl_frames,adv_objs_frames,name = \"adv_annotated_pcl\",fps=5)"
   ]
  },
  {
   "cell_type": "code",
   "execution_count": 16,
   "metadata": {},
   "outputs": [],
   "source": [
    "import matplotlib.pylab as plt\n",
    "import seaborn as sns\n",
    "np.random.seed(sum(map(ord, \"aesthetics\")))\n",
    "sns.set()"
   ]
  },
  {
   "cell_type": "code",
   "execution_count": 18,
   "metadata": {},
   "outputs": [
    {
     "data": {
      "text/plain": [
       "<matplotlib.text.Text at 0x7f0d1d401b90>"
      ]
     },
     "execution_count": 18,
     "metadata": {},
     "output_type": "execute_result"
    },
    {
     "data": {
      "image/png": "[encoded data removed]",
      "text/plain": [
       "<matplotlib.figure.Figure at 0x7f0d1c0b8490>"
      ]
     },
     "metadata": {},
     "output_type": "display_data"
    }
   ],
   "source": [
    "plt.plot(range(100),[len(objs) for objs in objs_frames])\n",
    "plt.plot(range(100),[len(objs) for objs in adv_objs_frames])\n",
    "plt.xlabel('frame')\n",
    "plt.ylabel('number of obstacles')"
   ]
  },
  {
   "cell_type": "code",
   "execution_count": null,
   "metadata": {},
   "outputs": [],
   "source": []
  }
 ],
 "metadata": {
  "kernelspec": {
   "display_name": "Python 2",
   "language": "python",
   "name": "python2"
  },
  "language_info": {
   "codemirror_mode": {
    "name": "ipython",
    "version": 2
   },
   "file_extension": ".py",
   "mimetype": "text/x-python",
   "name": "python",
   "nbconvert_exporter": "python",
   "pygments_lexer": "ipython2",
   "version": "2.7.12"
  }
 },
 "nbformat": 4,
 "nbformat_minor": 2
}
