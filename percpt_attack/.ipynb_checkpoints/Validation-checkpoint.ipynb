{
 "cells": [
  {
   "cell_type": "code",
   "execution_count": 36,
   "metadata": {},
   "outputs": [],
   "source": [
    "def draw_anotated_pcl(pcl_frames,objs_frames,idx,display=False):\n",
    "    \n",
    "    pcl = pcl_frames[idx]\n",
    "    objs = objs_frames[idx]\n",
    "    \n",
    "    %matplotlib inline\n",
    "    import matplotlib.pylab as plt\n",
    "    import matplotlib\n",
    "    from mpl_toolkits.mplot3d import Axes3D\n",
    "    import math\n",
    "    # import seaborn as sns; sns.set()\n",
    "    \n",
    "    roi_pcl = np.array(pcl)\n",
    "    px = [p[0] for p in roi_pcl]\n",
    "    py = [p[1] for p in roi_pcl]\n",
    "    pz = [p[2] for p in roi_pcl]\n",
    "    pi = [p[4] for p in roi_pcl]\n",
    "    n = len(px)\n",
    "    point_size = 0.05\n",
    "    axes_limits = [\n",
    "        [-80,80], # X axis\n",
    "        [-15,15], # Y axis\n",
    "        [-3,3] # Z axis\n",
    "    ]\n",
    "    \n",
    "    # Plot x-y, y-z, x-z\n",
    "    f,ax = plt.subplots(3,1,figsize=(20,5*3))\n",
    "    # ax = fig.add_subplot(111, projection='3d')\n",
    "    ax[0].scatter(px,py,c = pi,cmap='gray',s=point_size)\n",
    "    ax[0].set_xlabel('X axis')\n",
    "    ax[0].set_ylabel('Y axis')\n",
    "    ax[0].set_xlim(axes_limits[0])\n",
    "    ax[0].set_ylim(axes_limits[1])\n",
    "    \n",
    "    for obj in objs:\n",
    "            path = [(p[0],p[1]) for p in obj]\n",
    "            poly = matplotlib.patches.Polygon(path,fill = False,color='r',linewidth=3)\n",
    "            ax[0].add_patch(poly)\n",
    "    ax[1].scatter(py,pz,c = pi,cmap='gray',s=point_size)\n",
    "    ax[1].set_xlabel('Y axis')\n",
    "    ax[1].set_ylabel('Z axis')\n",
    "    ax[1].set_xlim(axes_limits[1])\n",
    "    ax[1].set_ylim(axes_limits[2])\n",
    "    ax[2].scatter(px,pz,c = pi,cmap='gray',s=point_size)\n",
    "    ax[2].set_xlabel('X axis')\n",
    "    ax[2].set_ylabel('Z axis')\n",
    "    ax[2].set_xlim(axes_limits[0])\n",
    "    ax[2].set_ylim(axes_limits[2])\n",
    "    if display:\n",
    "        plt.show()\n",
    "    else:\n",
    "        filename = 'annotated_video/frame_{0:0>4}.png'.format(idx)\n",
    "        for sub_ax in ax:\n",
    "            sub_ax.set_title(\"Frame: {0:0>4}\".format(idx))\n",
    "    \n",
    "        plt.savefig(filename)\n",
    "        plt.close(f)\n",
    "        return filename\n",
    "        \n"
   ]
  },
  {
   "cell_type": "code",
   "execution_count": 7,
   "metadata": {},
   "outputs": [],
   "source": [
    "def read_objs(filename):\n",
    "    obs_polygon = []\n",
    "    with open(filename,'rb') as f:\n",
    "        while True:\n",
    "            line = f.readline().split(' ')\n",
    "            if line[0] == '':\n",
    "                break\n",
    "            poly_size = int(line[8])\n",
    "            poly = []\n",
    "            for i in range(poly_size):\n",
    "                poly.append((float(line[9+i*3]),float(line[10+i*3]),float(line[11+i*3])))\n",
    "            obs_polygon.append(poly)\n",
    "\n",
    "    return obs_polygon"
   ]
  },
  {
   "cell_type": "code",
   "execution_count": 16,
   "metadata": {},
   "outputs": [],
   "source": [
    "def annotated_pcl_demo(roi_pcl_frames, obj_frames, name = \"pcl\", fps = 1, n_frames=0):\n",
    "    if n_frames == 0:\n",
    "        n_frames = len(roi_pcl_frames)\n",
    "    frames = []\n",
    "    if n_frames > len(roi_pcl_frames):\n",
    "        n_frames = len(roi_pcl_frames)\n",
    "\n",
    "    bar = pyprind.ProgBar(n_frames, bar_char='█')\n",
    "\n",
    "    print('Preparing animation frames...')\n",
    "    for i in range(n_frames):\n",
    "        bar.update(i)\n",
    "        filename = draw_anotated_pcl(roi_pcl_frames, obj_frames, i)\n",
    "        frames += [filename]\n",
    "    print('...Animation frames ready.')\n",
    "\n",
    "    gif_filename = '{0}_data.gif'.format(name)\n",
    "\n",
    "    clip = ImageSequenceClip(frames, fps=fps)\n",
    "    try:\n",
    "        os.remove(gif_filename)\n",
    "    except OSError:\n",
    "        pass\n",
    "    clip.write_gif(gif_filename, fps=fps)"
   ]
  },
  {
   "cell_type": "code",
   "execution_count": 5,
   "metadata": {},
   "outputs": [],
   "source": [
    "import re\n",
    "import numpy as np\n",
    "import os\n",
    "from tools import *\n",
    "import pickle\n",
    "%matplotlib inline"
   ]
  },
  {
   "cell_type": "code",
   "execution_count": 29,
   "metadata": {},
   "outputs": [],
   "source": [
    "def dump_cnn_out(output_data,filename = 'cnn.out'):\n",
    "    with open('/data/yulongc/apollo/data/percpt/'+filename,'w') as f:\n",
    "        # category\n",
    "        for p in output_data[0][0].flatten():\n",
    "            f.write('%.15f '%(p))\n",
    "        # class\n",
    "        f.write('\\n')\n",
    "        for p_class in output_data[1]:\n",
    "            for p in p_class.flatten():\n",
    "                f.write('%.15f '%(p))\n",
    "            f.write('\\n')\n",
    "        # confidence\n",
    "        for p in output_data[2][0].flatten():\n",
    "            f.write('%.15f '%(p))\n",
    "        f.write('\\n')\n",
    "    #     # heading\n",
    "    #     for heading in output_data[3]:\n",
    "    #         for p in heading:\n",
    "    #             f.write('%.15f '%(p))\n",
    "        # height\n",
    "        for p in output_data[3][0].flatten():\n",
    "            f.write('%.15f '%(p))\n",
    "        f.write('\\n')\n",
    "        # instance\n",
    "        for instance in output_data[4]:\n",
    "            for p in instance.flatten():\n",
    "                f.write('%.15f '%(p))\n",
    "            f.write('\\n')"
   ]
  },
  {
   "cell_type": "code",
   "execution_count": 23,
   "metadata": {},
   "outputs": [],
   "source": [
    "objs_frames = []\n",
    "for i in range(100):\n",
    "    objs_frames.append(read_objs('/data/yulongc/apollo/data/percpt/builders/builder_{0}.out'.format(i)))"
   ]
  },
  {
   "cell_type": "code",
   "execution_count": 24,
   "metadata": {},
   "outputs": [],
   "source": [
    "pcl_frames = []\n",
    "for i in range(100):\n",
    "    pcl_frames.append(np.loadtxt('/data/yulongc/apollo/data/percpt/pcls/pcl_{0}.out'.format(i)))"
   ]
  },
  {
   "cell_type": "code",
   "execution_count": 26,
   "metadata": {},
   "outputs": [
    {
     "name": "stdout",
     "output_type": "stream",
     "text": [
      "Preparing animation frames...\n"
     ]
    },
    {
     "name": "stderr",
     "output_type": "stream",
     "text": [
      "0% [███████████████████████████████] 100% | ETA: 23:59:56\n",
      "Total time elapsed: 00:01:39\n"
     ]
    },
    {
     "name": "stdout",
     "output_type": "stream",
     "text": [
      "...Animation frames ready.\n",
      "\n",
      "[MoviePy] Building file annotated_pcl_data.gif with imageio\n"
     ]
    },
    {
     "name": "stderr",
     "output_type": "stream",
     "text": [
      "100%|██████████| 100/100 [00:53<00:00,  2.75it/s]\n"
     ]
    }
   ],
   "source": [
    "annotated_pcl_demo(pcl_frames,objs_frames,name = \"annotated_pcl\",fps=5)"
   ]
  },
  {
   "cell_type": "code",
   "execution_count": 27,
   "metadata": {},
   "outputs": [],
   "source": [
    "# caffe model\n",
    "import caffe\n",
    "caffe.set_mode_gpu()\n",
    "# model to attack\n",
    "model_definition = 'deploy.prototxt'\n",
    "model_weights = 'deploy.caffemodel'\n",
    "\n",
    "# init net\n",
    "net = caffe.Net(model_definition, model_weights, caffe.TEST)"
   ]
  },
  {
   "cell_type": "code",
   "execution_count": 30,
   "metadata": {},
   "outputs": [
    {
     "name": "stdout",
     "output_type": "stream",
     "text": [
      "0\n",
      "50\n",
      "100\n",
      "150\n",
      "200\n",
      "250\n",
      "300\n",
      "350\n",
      "400\n",
      "450\n"
     ]
    }
   ],
   "source": [
    "#  ADV CNN OUT\n",
    "\n",
    "for i in range(500):\n",
    "    if not i % 50:\n",
    "        print i\n",
    "#     features = np.loadtxt('/data/yulongc/apollo/data/percpt/features/features_{0}.out'.format(i))\n",
    "#     features = np.reshape(features,(8,512,512))\n",
    "\n",
    "    features = np.load('/data/yulongc/apollo/data/percpt/adv_features/adv_feature_{0}.npy'.format(i))\n",
    "    features = np.swapaxes(features,0,3)[:,:,:,0]\n",
    "    \n",
    "    # transform input\n",
    "    # input_feature = transform(feature_frames, 0)\n",
    "    input_feature = features\n",
    "#     print input_feature.shape\n",
    "\n",
    "    # get output\n",
    "    net.blobs['data'].data[0] = input_feature\n",
    "    net.forward()\n",
    "    outputs = ['category_score','class_score','confidence_score',\n",
    "    #            'heading_pt',\n",
    "               'height_pt','instance_pt']\n",
    "#     for output in outputs:\n",
    "#         print output, net.blobs[output].data.shape, net.blobs[output].data.max(), net.blobs[output].data.min()\n",
    "    output_data = np.copy([net.blobs[output].data[0] for output in outputs])\n",
    "\n",
    "    dump_cnn_out(output_data,'adv_cnns/cnn_{0}.out'.format(i))"
   ]
  },
  {
   "cell_type": "code",
   "execution_count": 41,
   "metadata": {},
   "outputs": [],
   "source": [
    "adv_objs_frames = []\n",
    "for i in range(100):\n",
    "    adv_objs_frames.append(read_objs('/data/yulongc/apollo/data/percpt/adv_builders/adv_builder_{0}.out'.format(i)))"
   ]
  },
  {
   "cell_type": "code",
   "execution_count": 42,
   "metadata": {},
   "outputs": [
    {
     "name": "stdout",
     "output_type": "stream",
     "text": [
      "Preparing animation frames...\n"
     ]
    },
    {
     "name": "stderr",
     "output_type": "stream",
     "text": [
      "0% [███████████████████████████████] 100% | ETA: 23:59:54\n",
      "Total time elapsed: 00:02:21\n"
     ]
    },
    {
     "name": "stdout",
     "output_type": "stream",
     "text": [
      "...Animation frames ready.\n",
      "\n",
      "[MoviePy] Building file adv_annotated_pcl_data.gif with imageio\n"
     ]
    },
    {
     "name": "stderr",
     "output_type": "stream",
     "text": [
      "100%|██████████| 100/100 [01:00<00:00,  1.52it/s]\n"
     ]
    }
   ],
   "source": [
    "annotated_pcl_demo(pcl_frames,adv_objs_frames,name = \"adv_annotated_pcl\",fps=5)"
   ]
  },
  {
   "cell_type": "code",
   "execution_count": 46,
   "metadata": {},
   "outputs": [
    {
     "ename": "ImportError",
     "evalue": "No module named seaborn",
     "output_type": "error",
     "traceback": [
      "\u001b[0;31m---------------------------------------------------------------------------\u001b[0m",
      "\u001b[0;31mImportError\u001b[0m                               Traceback (most recent call last)",
      "\u001b[0;32m<ipython-input-46-26712f743761>\u001b[0m in \u001b[0;36m<module>\u001b[0;34m()\u001b[0m\n\u001b[1;32m      1\u001b[0m \u001b[0;32mimport\u001b[0m \u001b[0mmatplotlib\u001b[0m\u001b[0;34m.\u001b[0m\u001b[0mpylab\u001b[0m \u001b[0;32mas\u001b[0m \u001b[0mplt\u001b[0m\u001b[0;34m\u001b[0m\u001b[0m\n\u001b[0;32m----> 2\u001b[0;31m \u001b[0;32mimport\u001b[0m \u001b[0mseaborn\u001b[0m \u001b[0;32mas\u001b[0m \u001b[0msns\u001b[0m\u001b[0;34m\u001b[0m\u001b[0m\n\u001b[0m",
      "\u001b[0;31mImportError\u001b[0m: No module named seaborn"
     ]
    }
   ],
   "source": [
    "import matplotlib.pylab as plt\n",
    "import seaborn as sns"
   ]
  },
  {
   "cell_type": "code",
   "execution_count": 47,
   "metadata": {},
   "outputs": [
    {
     "ename": "TypeError",
     "evalue": "There is no line property \"colors\"",
     "output_type": "error",
     "traceback": [
      "\u001b[0;31m---------------------------------------------------------------------------\u001b[0m",
      "\u001b[0;31mTypeError\u001b[0m                                 Traceback (most recent call last)",
      "\u001b[0;32m<ipython-input-47-320cb79e9298>\u001b[0m in \u001b[0;36m<module>\u001b[0;34m()\u001b[0m\n\u001b[0;32m----> 1\u001b[0;31m \u001b[0mplt\u001b[0m\u001b[0;34m.\u001b[0m\u001b[0mplot\u001b[0m\u001b[0;34m(\u001b[0m\u001b[0mrange\u001b[0m\u001b[0;34m(\u001b[0m\u001b[0;36m100\u001b[0m\u001b[0;34m)\u001b[0m\u001b[0;34m,\u001b[0m\u001b[0;34m[\u001b[0m\u001b[0mlen\u001b[0m\u001b[0;34m(\u001b[0m\u001b[0mobjs\u001b[0m\u001b[0;34m)\u001b[0m \u001b[0;32mfor\u001b[0m \u001b[0mobjs\u001b[0m \u001b[0;32min\u001b[0m \u001b[0mobjs_frames\u001b[0m\u001b[0;34m]\u001b[0m\u001b[0;34m,\u001b[0m\u001b[0mcolors\u001b[0m\u001b[0;34m=\u001b[0m\u001b[0;34m'g'\u001b[0m\u001b[0;34m)\u001b[0m\u001b[0;34m\u001b[0m\u001b[0m\n\u001b[0m\u001b[1;32m      2\u001b[0m \u001b[0mplt\u001b[0m\u001b[0;34m.\u001b[0m\u001b[0mplot\u001b[0m\u001b[0;34m(\u001b[0m\u001b[0mrange\u001b[0m\u001b[0;34m(\u001b[0m\u001b[0;36m100\u001b[0m\u001b[0;34m)\u001b[0m\u001b[0;34m,\u001b[0m\u001b[0;34m[\u001b[0m\u001b[0mlen\u001b[0m\u001b[0;34m(\u001b[0m\u001b[0mobjs\u001b[0m\u001b[0;34m)\u001b[0m \u001b[0;32mfor\u001b[0m \u001b[0mobjs\u001b[0m \u001b[0;32min\u001b[0m \u001b[0madv_objs_frames\u001b[0m\u001b[0;34m]\u001b[0m\u001b[0;34m,\u001b[0m\u001b[0mcolors\u001b[0m\u001b[0;34m=\u001b[0m\u001b[0;34m'r'\u001b[0m\u001b[0;34m)\u001b[0m\u001b[0;34m\u001b[0m\u001b[0m\n",
      "\u001b[0;32m/usr/lib/pymodules/python2.7/matplotlib/pyplot.pyc\u001b[0m in \u001b[0;36mplot\u001b[0;34m(*args, **kwargs)\u001b[0m\n\u001b[1;32m   2985\u001b[0m         \u001b[0max\u001b[0m\u001b[0;34m.\u001b[0m\u001b[0mhold\u001b[0m\u001b[0;34m(\u001b[0m\u001b[0mhold\u001b[0m\u001b[0;34m)\u001b[0m\u001b[0;34m\u001b[0m\u001b[0m\n\u001b[1;32m   2986\u001b[0m     \u001b[0;32mtry\u001b[0m\u001b[0;34m:\u001b[0m\u001b[0;34m\u001b[0m\u001b[0m\n\u001b[0;32m-> 2987\u001b[0;31m         \u001b[0mret\u001b[0m \u001b[0;34m=\u001b[0m \u001b[0max\u001b[0m\u001b[0;34m.\u001b[0m\u001b[0mplot\u001b[0m\u001b[0;34m(\u001b[0m\u001b[0;34m*\u001b[0m\u001b[0margs\u001b[0m\u001b[0;34m,\u001b[0m \u001b[0;34m**\u001b[0m\u001b[0mkwargs\u001b[0m\u001b[0;34m)\u001b[0m\u001b[0;34m\u001b[0m\u001b[0m\n\u001b[0m\u001b[1;32m   2988\u001b[0m         \u001b[0mdraw_if_interactive\u001b[0m\u001b[0;34m(\u001b[0m\u001b[0;34m)\u001b[0m\u001b[0;34m\u001b[0m\u001b[0m\n\u001b[1;32m   2989\u001b[0m     \u001b[0;32mfinally\u001b[0m\u001b[0;34m:\u001b[0m\u001b[0;34m\u001b[0m\u001b[0m\n",
      "\u001b[0;32m/usr/lib/pymodules/python2.7/matplotlib/axes.pyc\u001b[0m in \u001b[0;36mplot\u001b[0;34m(self, *args, **kwargs)\u001b[0m\n\u001b[1;32m   4135\u001b[0m         \u001b[0mlines\u001b[0m \u001b[0;34m=\u001b[0m \u001b[0;34m[\u001b[0m\u001b[0;34m]\u001b[0m\u001b[0;34m\u001b[0m\u001b[0m\n\u001b[1;32m   4136\u001b[0m \u001b[0;34m\u001b[0m\u001b[0m\n\u001b[0;32m-> 4137\u001b[0;31m         \u001b[0;32mfor\u001b[0m \u001b[0mline\u001b[0m \u001b[0;32min\u001b[0m \u001b[0mself\u001b[0m\u001b[0;34m.\u001b[0m\u001b[0m_get_lines\u001b[0m\u001b[0;34m(\u001b[0m\u001b[0;34m*\u001b[0m\u001b[0margs\u001b[0m\u001b[0;34m,\u001b[0m \u001b[0;34m**\u001b[0m\u001b[0mkwargs\u001b[0m\u001b[0;34m)\u001b[0m\u001b[0;34m:\u001b[0m\u001b[0;34m\u001b[0m\u001b[0m\n\u001b[0m\u001b[1;32m   4138\u001b[0m             \u001b[0mself\u001b[0m\u001b[0;34m.\u001b[0m\u001b[0madd_line\u001b[0m\u001b[0;34m(\u001b[0m\u001b[0mline\u001b[0m\u001b[0;34m)\u001b[0m\u001b[0;34m\u001b[0m\u001b[0m\n\u001b[1;32m   4139\u001b[0m             \u001b[0mlines\u001b[0m\u001b[0;34m.\u001b[0m\u001b[0mappend\u001b[0m\u001b[0;34m(\u001b[0m\u001b[0mline\u001b[0m\u001b[0;34m)\u001b[0m\u001b[0;34m\u001b[0m\u001b[0m\n",
      "\u001b[0;32m/usr/lib/pymodules/python2.7/matplotlib/axes.pyc\u001b[0m in \u001b[0;36m_grab_next_args\u001b[0;34m(self, *args, **kwargs)\u001b[0m\n\u001b[1;32m    315\u001b[0m                 \u001b[0;32mreturn\u001b[0m\u001b[0;34m\u001b[0m\u001b[0m\n\u001b[1;32m    316\u001b[0m             \u001b[0;32mif\u001b[0m \u001b[0mlen\u001b[0m\u001b[0;34m(\u001b[0m\u001b[0mremaining\u001b[0m\u001b[0;34m)\u001b[0m \u001b[0;34m<=\u001b[0m \u001b[0;36m3\u001b[0m\u001b[0;34m:\u001b[0m\u001b[0;34m\u001b[0m\u001b[0m\n\u001b[0;32m--> 317\u001b[0;31m                 \u001b[0;32mfor\u001b[0m \u001b[0mseg\u001b[0m \u001b[0;32min\u001b[0m \u001b[0mself\u001b[0m\u001b[0;34m.\u001b[0m\u001b[0m_plot_args\u001b[0m\u001b[0;34m(\u001b[0m\u001b[0mremaining\u001b[0m\u001b[0;34m,\u001b[0m \u001b[0mkwargs\u001b[0m\u001b[0;34m)\u001b[0m\u001b[0;34m:\u001b[0m\u001b[0;34m\u001b[0m\u001b[0m\n\u001b[0m\u001b[1;32m    318\u001b[0m                     \u001b[0;32myield\u001b[0m \u001b[0mseg\u001b[0m\u001b[0;34m\u001b[0m\u001b[0m\n\u001b[1;32m    319\u001b[0m                 \u001b[0;32mreturn\u001b[0m\u001b[0;34m\u001b[0m\u001b[0m\n",
      "\u001b[0;32m/usr/lib/pymodules/python2.7/matplotlib/axes.pyc\u001b[0m in \u001b[0;36m_plot_args\u001b[0;34m(self, tup, kwargs)\u001b[0m\n\u001b[1;32m    303\u001b[0m         \u001b[0mncx\u001b[0m\u001b[0;34m,\u001b[0m \u001b[0mncy\u001b[0m \u001b[0;34m=\u001b[0m \u001b[0mx\u001b[0m\u001b[0;34m.\u001b[0m\u001b[0mshape\u001b[0m\u001b[0;34m[\u001b[0m\u001b[0;36m1\u001b[0m\u001b[0;34m]\u001b[0m\u001b[0;34m,\u001b[0m \u001b[0my\u001b[0m\u001b[0;34m.\u001b[0m\u001b[0mshape\u001b[0m\u001b[0;34m[\u001b[0m\u001b[0;36m1\u001b[0m\u001b[0;34m]\u001b[0m\u001b[0;34m\u001b[0m\u001b[0m\n\u001b[1;32m    304\u001b[0m         \u001b[0;32mfor\u001b[0m \u001b[0mj\u001b[0m \u001b[0;32min\u001b[0m \u001b[0mxrange\u001b[0m\u001b[0;34m(\u001b[0m\u001b[0mmax\u001b[0m\u001b[0;34m(\u001b[0m\u001b[0mncx\u001b[0m\u001b[0;34m,\u001b[0m \u001b[0mncy\u001b[0m\u001b[0;34m)\u001b[0m\u001b[0;34m)\u001b[0m\u001b[0;34m:\u001b[0m\u001b[0;34m\u001b[0m\u001b[0m\n\u001b[0;32m--> 305\u001b[0;31m             \u001b[0mseg\u001b[0m \u001b[0;34m=\u001b[0m \u001b[0mfunc\u001b[0m\u001b[0;34m(\u001b[0m\u001b[0mx\u001b[0m\u001b[0;34m[\u001b[0m\u001b[0;34m:\u001b[0m\u001b[0;34m,\u001b[0m \u001b[0mj\u001b[0m \u001b[0;34m%\u001b[0m \u001b[0mncx\u001b[0m\u001b[0;34m]\u001b[0m\u001b[0;34m,\u001b[0m \u001b[0my\u001b[0m\u001b[0;34m[\u001b[0m\u001b[0;34m:\u001b[0m\u001b[0;34m,\u001b[0m \u001b[0mj\u001b[0m \u001b[0;34m%\u001b[0m \u001b[0mncy\u001b[0m\u001b[0;34m]\u001b[0m\u001b[0;34m,\u001b[0m \u001b[0mkw\u001b[0m\u001b[0;34m,\u001b[0m \u001b[0mkwargs\u001b[0m\u001b[0;34m)\u001b[0m\u001b[0;34m\u001b[0m\u001b[0m\n\u001b[0m\u001b[1;32m    306\u001b[0m             \u001b[0mret\u001b[0m\u001b[0;34m.\u001b[0m\u001b[0mappend\u001b[0m\u001b[0;34m(\u001b[0m\u001b[0mseg\u001b[0m\u001b[0;34m)\u001b[0m\u001b[0;34m\u001b[0m\u001b[0m\n\u001b[1;32m    307\u001b[0m         \u001b[0;32mreturn\u001b[0m \u001b[0mret\u001b[0m\u001b[0;34m\u001b[0m\u001b[0m\n",
      "\u001b[0;32m/usr/lib/pymodules/python2.7/matplotlib/axes.pyc\u001b[0m in \u001b[0;36m_makeline\u001b[0;34m(self, x, y, kw, kwargs)\u001b[0m\n\u001b[1;32m    255\u001b[0m                             \u001b[0;34m**\u001b[0m\u001b[0mkw\u001b[0m\u001b[0;34m\u001b[0m\u001b[0m\n\u001b[1;32m    256\u001b[0m                             )\n\u001b[0;32m--> 257\u001b[0;31m         \u001b[0mself\u001b[0m\u001b[0;34m.\u001b[0m\u001b[0mset_lineprops\u001b[0m\u001b[0;34m(\u001b[0m\u001b[0mseg\u001b[0m\u001b[0;34m,\u001b[0m \u001b[0;34m**\u001b[0m\u001b[0mkwargs\u001b[0m\u001b[0;34m)\u001b[0m\u001b[0;34m\u001b[0m\u001b[0m\n\u001b[0m\u001b[1;32m    258\u001b[0m         \u001b[0;32mreturn\u001b[0m \u001b[0mseg\u001b[0m\u001b[0;34m\u001b[0m\u001b[0m\n\u001b[1;32m    259\u001b[0m \u001b[0;34m\u001b[0m\u001b[0m\n",
      "\u001b[0;32m/usr/lib/pymodules/python2.7/matplotlib/axes.pyc\u001b[0m in \u001b[0;36mset_lineprops\u001b[0;34m(self, line, **kwargs)\u001b[0m\n\u001b[1;32m    196\u001b[0m             \u001b[0mfuncName\u001b[0m \u001b[0;34m=\u001b[0m \u001b[0;34m\"set_%s\"\u001b[0m \u001b[0;34m%\u001b[0m \u001b[0mkey\u001b[0m\u001b[0;34m\u001b[0m\u001b[0m\n\u001b[1;32m    197\u001b[0m             \u001b[0;32mif\u001b[0m \u001b[0;32mnot\u001b[0m \u001b[0mhasattr\u001b[0m\u001b[0;34m(\u001b[0m\u001b[0mline\u001b[0m\u001b[0;34m,\u001b[0m \u001b[0mfuncName\u001b[0m\u001b[0;34m)\u001b[0m\u001b[0;34m:\u001b[0m\u001b[0;34m\u001b[0m\u001b[0m\n\u001b[0;32m--> 198\u001b[0;31m                 \u001b[0;32mraise\u001b[0m \u001b[0mTypeError\u001b[0m\u001b[0;34m(\u001b[0m\u001b[0;34m'There is no line property \"%s\"'\u001b[0m \u001b[0;34m%\u001b[0m \u001b[0mkey\u001b[0m\u001b[0;34m)\u001b[0m\u001b[0;34m\u001b[0m\u001b[0m\n\u001b[0m\u001b[1;32m    199\u001b[0m             \u001b[0mfunc\u001b[0m \u001b[0;34m=\u001b[0m \u001b[0mgetattr\u001b[0m\u001b[0;34m(\u001b[0m\u001b[0mline\u001b[0m\u001b[0;34m,\u001b[0m \u001b[0mfuncName\u001b[0m\u001b[0;34m)\u001b[0m\u001b[0;34m\u001b[0m\u001b[0m\n\u001b[1;32m    200\u001b[0m             \u001b[0mfunc\u001b[0m\u001b[0;34m(\u001b[0m\u001b[0mval\u001b[0m\u001b[0;34m)\u001b[0m\u001b[0;34m\u001b[0m\u001b[0m\n",
      "\u001b[0;31mTypeError\u001b[0m: There is no line property \"colors\""
     ]
    },
    {
     "data": {
      "image/png": "[encoded data removed]",
      "text/plain": [
       "<matplotlib.figure.Figure at 0x7f86c4be8dd0>"
      ]
     },
     "metadata": {},
     "output_type": "display_data"
    }
   ],
   "source": [
    "plt.plot(range(100),[len(objs) for objs in objs_frames],colors='g')\n",
    "plt.plot(range(100),[len(objs) for objs in adv_objs_frames],colors='r')"
   ]
  },
  {
   "cell_type": "code",
   "execution_count": null,
   "metadata": {},
   "outputs": [],
   "source": []
  }
 ],
 "metadata": {
  "kernelspec": {
   "display_name": "Python 2",
   "language": "python",
   "name": "python2"
  },
  "language_info": {
   "codemirror_mode": {
    "name": "ipython",
    "version": 2
   },
   "file_extension": ".py",
   "mimetype": "text/x-python",
   "name": "python",
   "nbconvert_exporter": "python",
   "pygments_lexer": "ipython2",
   "version": "2.7.6"
  }
 },
 "nbformat": 4,
 "nbformat_minor": 2
}
