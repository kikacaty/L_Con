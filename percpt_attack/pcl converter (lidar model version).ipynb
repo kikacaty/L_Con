{
 "cells": [
  {
   "cell_type": "code",
   "execution_count": 12,
   "metadata": {},
   "outputs": [],
   "source": [
    "from pcl_lib import Msger\n",
    "import numpy as np\n",
    "import math"
   ]
  },
  {
   "cell_type": "code",
   "execution_count": 2,
   "metadata": {},
   "outputs": [],
   "source": [
    "pcl_frames = []\n",
    "for i in range(50):\n",
    "    pcl_frames.append(np.loadtxt('../percpt/pcls/pcl_{0}.out'.format(i)))"
   ]
  },
  {
   "cell_type": "code",
   "execution_count": 4,
   "metadata": {},
   "outputs": [
    {
     "name": "stdout",
     "output_type": "stream",
     "text": [
      "[INFO] [1525207434.665351]: Initializing pcl2 publisher node...\n",
      "[INFO] [1525207435.805245]: publishing sample pointcloud.. !\n",
      "[INFO] [1525207436.040865]: publishing sample pointcloud.. !\n",
      "[INFO] [1525207436.253948]: publishing sample pointcloud.. !\n",
      "[INFO] [1525207436.511496]: publishing sample pointcloud.. !\n",
      "[INFO] [1525207436.753558]: publishing sample pointcloud.. !\n",
      "[INFO] [1525207436.993992]: publishing sample pointcloud.. !\n",
      "[INFO] [1525207437.235629]: publishing sample pointcloud.. !\n",
      "[INFO] [1525207437.476592]: publishing sample pointcloud.. !\n",
      "[INFO] [1525207437.717935]: publishing sample pointcloud.. !\n",
      "[INFO] [1525207437.959157]: publishing sample pointcloud.. !\n",
      "[INFO] [1525207438.200885]: publishing sample pointcloud.. !\n",
      "[INFO] [1525207438.440669]: publishing sample pointcloud.. !\n",
      "[INFO] [1525207438.676541]: publishing sample pointcloud.. !\n",
      "[INFO] [1525207438.920959]: publishing sample pointcloud.. !\n",
      "[INFO] [1525207439.153288]: publishing sample pointcloud.. !\n",
      "[INFO] [1525207439.386912]: publishing sample pointcloud.. !\n",
      "[INFO] [1525207439.630731]: publishing sample pointcloud.. !\n",
      "[INFO] [1525207439.873291]: publishing sample pointcloud.. !\n",
      "[INFO] [1525207440.116995]: publishing sample pointcloud.. !\n",
      "[INFO] [1525207440.359338]: publishing sample pointcloud.. !\n",
      "[INFO] [1525207440.595461]: publishing sample pointcloud.. !\n",
      "[INFO] [1525207440.833653]: publishing sample pointcloud.. !\n",
      "[INFO] [1525207441.056302]: publishing sample pointcloud.. !\n",
      "[INFO] [1525207441.302562]: publishing sample pointcloud.. !\n",
      "[INFO] [1525207441.543656]: publishing sample pointcloud.. !\n",
      "[INFO] [1525207441.781195]: publishing sample pointcloud.. !\n",
      "[INFO] [1525207442.029969]: publishing sample pointcloud.. !\n",
      "[INFO] [1525207442.273952]: publishing sample pointcloud.. !\n",
      "[INFO] [1525207442.515929]: publishing sample pointcloud.. !\n",
      "[INFO] [1525207442.752229]: publishing sample pointcloud.. !\n",
      "[INFO] [1525207442.992184]: publishing sample pointcloud.. !\n",
      "[INFO] [1525207443.233343]: publishing sample pointcloud.. !\n",
      "[INFO] [1525207443.476187]: publishing sample pointcloud.. !\n",
      "[INFO] [1525207443.716005]: publishing sample pointcloud.. !\n",
      "[INFO] [1525207443.956525]: publishing sample pointcloud.. !\n",
      "[INFO] [1525207444.196061]: publishing sample pointcloud.. !\n",
      "[INFO] [1525207444.436016]: publishing sample pointcloud.. !\n",
      "[INFO] [1525207444.671856]: publishing sample pointcloud.. !\n",
      "[INFO] [1525207444.912780]: publishing sample pointcloud.. !\n",
      "[INFO] [1525207445.149499]: publishing sample pointcloud.. !\n",
      "[INFO] [1525207445.386792]: publishing sample pointcloud.. !\n",
      "[INFO] [1525207445.626180]: publishing sample pointcloud.. !\n",
      "[INFO] [1525207445.866610]: publishing sample pointcloud.. !\n",
      "[INFO] [1525207446.103001]: publishing sample pointcloud.. !\n",
      "[INFO] [1525207446.340970]: publishing sample pointcloud.. !\n",
      "[INFO] [1525207446.582440]: publishing sample pointcloud.. !\n",
      "[INFO] [1525207446.821363]: publishing sample pointcloud.. !\n",
      "[INFO] [1525207447.056861]: publishing sample pointcloud.. !\n",
      "[INFO] [1525207447.293573]: publishing sample pointcloud.. !\n",
      "[INFO] [1525207447.537128]: publishing sample pointcloud.. !\n"
     ]
    }
   ],
   "source": [
    "msger = Msger()\n",
    "for pcl in pcl_frames:\n",
    "    msger.publish_pcl_msg(pcl)"
   ]
  },
  {
   "cell_type": "code",
   "execution_count": 5,
   "metadata": {},
   "outputs": [],
   "source": [
    "def F2I(val,ori=60,scale=512.0/120):\n",
    "    import math\n",
    "    return int(math.floor((ori-val)*scale))\n",
    "def I2F(val,ori=60,scale=2*60.0/512):\n",
    "    import math\n",
    "    return -int(val*scale-ori)\n",
    "def Sphe2Carte(vr,hr,R):\n",
    "    x = R*np.cos(vr) * np.cos(hr)\n",
    "    y = R * np.cos(vr)*np.sin(hr)\n",
    "    z = R * np.sin(vr)\n",
    "    return [x,y,z]\n",
    "def Cart2Sphe(x,y,z):\n",
    "    import math\n",
    "    r = np.linalg.norm([x,y,z])\n",
    "    vr = math.atan2(z/r,np.linalg.norm([x/r,y/r]))\n",
    "    hr = math.atan2(y/r,x/r)\n",
    "    return [vr,hr,r]\n",
    "def Sphe2CartIdx(vr,hr,R):\n",
    "    x,y,z = Sphe2Carte(vr,hr,R)\n",
    "    i = F2I(x)\n",
    "    j = F2I(y)\n",
    "    return [i,j]"
   ]
  },
  {
   "cell_type": "code",
   "execution_count": 6,
   "metadata": {},
   "outputs": [],
   "source": [
    "# prepare data\n",
    "adv_features = np.load('../percpt/adv_features/adv_feature_0.npy')\n",
    "adv_features = np.swapaxes(adv_features,0,3)[:,:,:,0]\n",
    "\n",
    "features = np.loadtxt('../percpt/features/features_0.out')\n",
    "features = np.reshape(features,(8,512,512))"
   ]
  },
  {
   "cell_type": "code",
   "execution_count": 7,
   "metadata": {},
   "outputs": [],
   "source": [
    "# lidar config\n",
    "res_deg = 0.05\n",
    "h_range = int(np.ceil(360 / res_deg)) \n",
    "v_range = 64\n",
    "\n",
    "v_rs = 40./v_range\n",
    "\n",
    "pcl_polar = np.zeros([h_range,v_range])"
   ]
  },
  {
   "cell_type": "code",
   "execution_count": 8,
   "metadata": {},
   "outputs": [],
   "source": [
    "# pcl in polar frames\n",
    "v_list = []\n",
    "h_list = []\n",
    "for p in pcl_frames[0]:\n",
    "    p_polar = Cart2Sphe(p[0],p[1],p[2])\n",
    "#     h_list.append(np.floor((p_polar[1] + np.pi)*180/np.pi/res_deg))\n",
    "    h_idx = np.floor((p_polar[1] + np.pi)*180/np.pi/res_deg)\n",
    "#     v_list.append(np.floor((p_polar[0]*180/np.pi + 40)/v_rs))\n",
    "    v_idx = np.floor((p_polar[0]*180/np.pi + 35)/v_rs)\n",
    "    v_idx = int(np.max([np.min([v_idx,v_range-1]),0]))\n",
    "    h_idx = int(np.max([np.min([h_idx,h_range-1]),0]))\n",
    "#     print p_polar[2],v_idx,h_idx\n",
    "#     if pcl_polar[h_idx,v_idx] != 0:\n",
    "#         print p_polar[2], pcl_polar[h_idx,v_idx]\n",
    "    pcl_polar[h_idx,v_idx] = p_polar[2]"
   ]
  },
  {
   "cell_type": "code",
   "execution_count": 9,
   "metadata": {},
   "outputs": [
    {
     "name": "stdout",
     "output_type": "stream",
     "text": [
      "94034\n",
      "[INFO] [1525207476.067225]: publishing sample pointcloud.. !\n"
     ]
    }
   ],
   "source": [
    "# original pcl\n",
    "pcl = []\n",
    "for v_idx in range(v_range):\n",
    "    for h_idx in range(h_range):\n",
    "        v = (v_idx * v_rs - 35)/180.0 * np.pi\n",
    "        h = h_idx * res_deg /180. * np.pi - np.pi\n",
    "        if pcl_polar[h_idx,v_idx] != 0:\n",
    "            pcl.append(Sphe2Carte(v,h,pcl_polar[h_idx,v_idx]))\n",
    "\n",
    "print len(pcl)\n",
    "            \n",
    "msger.publish_pcl_msg(pcl)"
   ]
  },
  {
   "cell_type": "code",
   "execution_count": 13,
   "metadata": {},
   "outputs": [],
   "source": [
    "def SynthesisPolarPCLAdv(features, adv_features, pcl_polar):\n",
    "    adv_cnt = np.floor(np.exp(adv_features[2]))-1\n",
    "    cnt = np.floor(np.exp(features[2]))-1\n",
    "    \n",
    "    print \"Real cnt: \",np.sum(cnt)\n",
    "    print \"Expected cnt: \",np.sum(adv_cnt)\n",
    "    \n",
    "    adv_pcl_polar = np.zeros([h_range,v_range])\n",
    "    \n",
    "    # adding point from lower height\n",
    "    # adding point from original pcl\n",
    "    for v_idx in range(v_range):\n",
    "        for h_idx in range(h_range):\n",
    "            v = (v_idx * v_rs - 35)/180.0 * np.pi\n",
    "            h = h_idx * res_deg /180. * np.pi - np.pi\n",
    "            if pcl_polar[h_idx,v_idx] != 0:\n",
    "                p = Sphe2Carte(v,h,pcl_polar[h_idx,v_idx])\n",
    "                i = F2I(p[0])\n",
    "                j = F2I(p[1])\n",
    "                if i < 0 or i > 511 or j < 0 or j > 511:\n",
    "                    continue\n",
    "                if adv_cnt[i,j] > 0:\n",
    "                    adv_cnt[i,j] = adv_cnt[i,j] - 1\n",
    "                    adv_pcl_polar[h_idx,v_idx] = np.copy(pcl_polar[h_idx,v_idx])\n",
    "    # filling additional point\n",
    "    added_pts = 0\n",
    "    for i in range(512):\n",
    "        for j in range(512):\n",
    "            if adv_cnt[i,j] > 0:\n",
    "                y_range = [I2F(j),I2F(j+1)]\n",
    "                x_range = [I2F(i),I2F(i+1)]\n",
    "                h_all = [math.atan2(y_range[0],x_range[0]),math.atan2(y_range[0],x_range[1])]\n",
    "                h_r =  [np.min(h_all),np.max(h_all)]\n",
    "                h_idx_r = [np.floor((h + np.pi)*180/np.pi/res_deg) for h in h_r ]\n",
    "                for h in range(int(h_idx_r[0]),int(h_idx_r[1])):\n",
    "                    for v in range(v_range):\n",
    "                        if adv_pcl_polar[h,v_range - 1 - v] == 0:\n",
    "                            for eps in range(-5,5):\n",
    "                                if h+eps >=0 and h+eps <h_range and eps != 0 and pcl_polar[h+eps,v_range - 1 - v] != 0:\n",
    "                                    adv_pcl_polar[h,v_range - 1 - v] = np.copy(pcl_polar[h+eps,v_range - 1 - v])\n",
    "                                    adv_cnt[i,j] -= 1\n",
    "                                    added_pts += 1\n",
    "                                    break\n",
    "                        if adv_cnt[i,j] <= 0:\n",
    "                            break\n",
    "                    if adv_cnt[i,j] <= 0:\n",
    "                        break\n",
    "#                 if adv_cnt[i,j] > 0:\n",
    "#                     print \"Unresolved adv cnt: \", adv_cnt[i,j]\n",
    "    print \"Adding pts: \", added_pts\n",
    "    \n",
    "    pcl = []\n",
    "    for v_idx in range(v_range):\n",
    "        for h_idx in range(h_range):\n",
    "            v = (v_idx * v_rs - 35)/180.0 * np.pi\n",
    "            h = h_idx * res_deg /180. * np.pi - np.pi\n",
    "            if adv_pcl_polar[h_idx,v_idx] != 0:\n",
    "                pcl.append(Sphe2Carte(v,h,adv_pcl_polar[h_idx,v_idx]))\n",
    "\n",
    "    print len(pcl)\n",
    "\n",
    "    msger.publish_pcl_msg(pcl)\n",
    "    return adv_pcl_polar"
   ]
  },
  {
   "cell_type": "code",
   "execution_count": 14,
   "metadata": {},
   "outputs": [
    {
     "name": "stdout",
     "output_type": "stream",
     "text": [
      "Real cnt:  85505.0\n",
      "Expected cnt:  91346.0\n",
      "Adding pts:  1965\n",
      "83720\n",
      "[INFO] [1525207512.675500]: publishing sample pointcloud.. !\n"
     ]
    }
   ],
   "source": [
    "adv_pcl_polar = SynthesisPolarPCLAdv(features,adv_features,pcl_polar)"
   ]
  },
  {
   "cell_type": "code",
   "execution_count": 15,
   "metadata": {},
   "outputs": [
    {
     "name": "stdout",
     "output_type": "stream",
     "text": [
      "83720\n",
      "[INFO] [1525207520.025033]: publishing sample pointcloud.. !\n"
     ]
    }
   ],
   "source": [
    "# adv pcl\n",
    "pcl = []\n",
    "for v_idx in range(v_range):\n",
    "    for h_idx in range(h_range):\n",
    "        v = (v_idx * v_rs - 35)/180.0 * np.pi\n",
    "        h = h_idx * res_deg /180. * np.pi - np.pi\n",
    "        if adv_pcl_polar[h_idx,v_idx] != 0:\n",
    "            pcl.append(Sphe2Carte(v,h,adv_pcl_polar[h_idx,v_idx]))\n",
    "\n",
    "print len(pcl)\n",
    "            \n",
    "msger.publish_pcl_msg(pcl)"
   ]
  },
  {
   "cell_type": "code",
   "execution_count": 16,
   "metadata": {},
   "outputs": [
    {
     "name": "stdout",
     "output_type": "stream",
     "text": [
      "[INFO] [1525207524.723043]: publishing sample pointcloud.. !\n"
     ]
    }
   ],
   "source": [
    "msger.publish_pcl_msg(pcl_frames[0])"
   ]
  }
 ],
 "metadata": {
  "kernelspec": {
   "display_name": "Python 2",
   "language": "python",
   "name": "python2"
  },
  "language_info": {
   "codemirror_mode": {
    "name": "ipython",
    "version": 2
   },
   "file_extension": ".py",
   "mimetype": "text/x-python",
   "name": "python",
   "nbconvert_exporter": "python",
   "pygments_lexer": "ipython2",
   "version": "2.7.12"
  }
 },
 "nbformat": 4,
 "nbformat_minor": 2
}
